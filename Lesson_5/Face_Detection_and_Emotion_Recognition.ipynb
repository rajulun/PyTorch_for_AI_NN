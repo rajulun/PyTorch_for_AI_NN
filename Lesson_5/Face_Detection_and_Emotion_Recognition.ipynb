{
  "nbformat": 4,
  "nbformat_minor": 0,
  "metadata": {
    "colab": {
      "name": "Face Detection and Emotion Recognition",
      "provenance": [],
      "collapsed_sections": [],
      "toc_visible": true
    },
    "kernelspec": {
      "name": "python3",
      "display_name": "Python 3"
    },
    "accelerator": "GPU"
  },
  "cells": [
    {
      "cell_type": "markdown",
      "metadata": {
        "id": "bNnNMuVmyBAh"
      },
      "source": [
        "## Урок 5. Face Detection and Emotion Recognition"
      ]
    },
    {
      "cell_type": "markdown",
      "metadata": {
        "id": "lKSSwqWcx4sM"
      },
      "source": [
        "Нужно написать приложение, которое будет считывать и выводить кадры с веб-камеры. В процессе считывания определять что перед камерой находится человек, за детектировав его лицо на кадре. После этого, человек показывает жесты руками, а алгоритм должен считать их и определенным образом реагировать на эти жесты. \n",
        "На то, как система будет реагировать на определенные жесты - выбор за вами. Например, на определенный жест (жест пис), система будет здороваться с человеком. На другой, будет делать скриншот экрана. И т.д.\n",
        "Для распознавания жестов, вам надо будет скачать датасет  https://www.kaggle.com/gti-upm/leapgestrecog, разработать модель для обучения и обучить эту модель.\n"
      ]
    },
    {
      "cell_type": "code",
      "metadata": {
        "id": "iEHuzBm6wzeV"
      },
      "source": [
        "# !mkdir -p ~/.kaggle\n",
        "# !cp /content/kaggle.json ~/.kaggle/\n",
        "# !chmod 600 /root/.kaggle/kaggle.json\n",
        "# !kaggle datasets download -d  gti-upm/leapgestrecog"
      ],
      "execution_count": 1,
      "outputs": []
    },
    {
      "cell_type": "code",
      "metadata": {
        "id": "ti-ntv2FyOFQ"
      },
      "source": [
        "# !unzip -q /content/leapgestrecog.zip -d /content/data"
      ],
      "execution_count": 2,
      "outputs": []
    },
    {
      "cell_type": "code",
      "metadata": {
        "id": "jVFTC28eyOCc"
      },
      "source": [
        "import os\n",
        "import torch\n",
        "import torchvision\n",
        "import torch.nn as nn\n",
        "import numpy as np\n",
        "import torch.nn.functional as F\n",
        "from torchvision.datasets import ImageFolder\n",
        "from torch.utils.data import DataLoader\n",
        "import torchvision.transforms as tt\n",
        "from torchvision.utils import make_grid\n",
        "import matplotlib.pyplot as plt\n",
        "%matplotlib inline\n",
        "import time\n",
        "from torch.autograd import Variable\n",
        "import cv2\n",
        "from sklearn.model_selection import train_test_split"
      ],
      "execution_count": 3,
      "outputs": []
    },
    {
      "cell_type": "markdown",
      "metadata": {
        "id": "AZ8VPHL-xxPv"
      },
      "source": [
        "## Часть 1. Подготовка данных"
      ]
    },
    {
      "cell_type": "code",
      "metadata": {
        "colab": {
          "base_uri": "https://localhost:8080/"
        },
        "id": "os12nR3OyN7T",
        "outputId": "0b5473a8-c998-402d-b1b1-6ec98703a96f"
      },
      "source": [
        "train_dir = './data/leapGestRecog'\n",
        "print(os.listdir(train_dir))"
      ],
      "execution_count": 4,
      "outputs": [
        {
          "output_type": "stream",
          "text": [
            "['09', '08', '03', '07', '02', '01', '05', '04', '00', '06']\n"
          ],
          "name": "stdout"
        }
      ]
    },
    {
      "cell_type": "code",
      "metadata": {
        "colab": {
          "base_uri": "https://localhost:8080/",
          "height": 36
        },
        "id": "d7yYbVkadWuP",
        "outputId": "40a33073-ce3b-4984-ab07-34c55774067c"
      },
      "source": [
        "train_dir"
      ],
      "execution_count": 5,
      "outputs": [
        {
          "output_type": "execute_result",
          "data": {
            "application/vnd.google.colaboratory.intrinsic+json": {
              "type": "string"
            },
            "text/plain": [
              "'./data/leapGestRecog'"
            ]
          },
          "metadata": {
            "tags": []
          },
          "execution_count": 5
        }
      ]
    },
    {
      "cell_type": "code",
      "metadata": {
        "colab": {
          "base_uri": "https://localhost:8080/"
        },
        "id": "Yk863mNB852H",
        "outputId": "e3f51280-55ae-47c4-c5db-55e5693d480d"
      },
      "source": [
        "test_dir = './data/leapgestrecog/leapGestRecog'\n",
        "print(os.listdir(test_dir))"
      ],
      "execution_count": 6,
      "outputs": [
        {
          "output_type": "stream",
          "text": [
            "['09', '08', '03', '07', '02', '01', '05', '04', '00', '06']\n"
          ],
          "name": "stdout"
        }
      ]
    },
    {
      "cell_type": "code",
      "metadata": {
        "colab": {
          "base_uri": "https://localhost:8080/"
        },
        "id": "curOhn6QyN4f",
        "outputId": "506f5cca-faaa-4f23-df9e-a7ac2a558c66"
      },
      "source": [
        "folder_00 = os.listdir(train_dir + \"/00\")\n",
        "print(f'Train Classes - {folder_00}')"
      ],
      "execution_count": 7,
      "outputs": [
        {
          "output_type": "stream",
          "text": [
            "Train Classes - ['05_thumb', '02_l', '10_down', '06_index', '07_ok', '04_fist_moved', '09_c', '01_palm', '08_palm_moved', '03_fist']\n"
          ],
          "name": "stdout"
        }
      ]
    },
    {
      "cell_type": "code",
      "metadata": {
        "id": "nkJVwDGVyN15"
      },
      "source": [
        "digit_to_classname = {0:'palm', 1:'fist', 2:'thumb', 3:'fist_moved', 4:'ok', 5:'palm_moved', 6:'c', \n",
        "                      7:'index', 8:'l', 9:'down'}"
      ],
      "execution_count": 8,
      "outputs": []
    },
    {
      "cell_type": "code",
      "metadata": {
        "id": "zbBba5up4tst"
      },
      "source": [
        "batch_size = 10"
      ],
      "execution_count": 54,
      "outputs": []
    },
    {
      "cell_type": "code",
      "metadata": {
        "id": "40aV29v4KQfO"
      },
      "source": [
        "train_transforms = tt.Compose([tt.Grayscale(num_output_channels=1), # Картинки чернобелые\n",
        "                         \n",
        "                         # Настройки для расширения датасета\n",
        "                         tt.RandomHorizontalFlip(),           # Случайные повороты на 90 градусов\n",
        "                         tt.RandomRotation(30),               # Случайные повороты на 30 градусов\n",
        "                         tt.RandomResizedCrop(640, scale=(1.0, 1.0)),\n",
        "                         tt.Resize(48),\n",
        "                         tt.ToTensor()])                      # Приведение к тензору\n",
        "\n",
        "test_transforms = tt.Compose([tt.Grayscale(num_output_channels=1), tt.ToTensor()])"
      ],
      "execution_count": 74,
      "outputs": []
    },
    {
      "cell_type": "code",
      "metadata": {
        "id": "cDM3VD43Jzt3"
      },
      "source": [
        "train_dataset = ImageFolder(train_dir, train_transforms)\n",
        "test_dataset  = ImageFolder(test_dir, test_transforms)"
      ],
      "execution_count": 112,
      "outputs": []
    },
    {
      "cell_type": "code",
      "metadata": {
        "colab": {
          "base_uri": "https://localhost:8080/"
        },
        "id": "Ujr44vgwO3-C",
        "outputId": "ef2e8921-596f-43b8-db1b-9e677e375d70"
      },
      "source": [
        "train_dataset"
      ],
      "execution_count": 113,
      "outputs": [
        {
          "output_type": "execute_result",
          "data": {
            "text/plain": [
              "Dataset ImageFolder\n",
              "    Number of datapoints: 20000\n",
              "    Root location: ./data/leapGestRecog\n",
              "    StandardTransform\n",
              "Transform: Compose(\n",
              "               Grayscale(num_output_channels=1)\n",
              "               RandomHorizontalFlip(p=0.5)\n",
              "               RandomRotation(degrees=[-30.0, 30.0], resample=False, expand=False)\n",
              "               RandomResizedCrop(size=(640, 640), scale=(1.0, 1.0), ratio=(0.75, 1.3333), interpolation=PIL.Image.BILINEAR)\n",
              "               Resize(size=48, interpolation=PIL.Image.BILINEAR)\n",
              "               ToTensor()\n",
              "           )"
            ]
          },
          "metadata": {
            "tags": []
          },
          "execution_count": 113
        }
      ]
    },
    {
      "cell_type": "code",
      "metadata": {
        "id": "AUtNL3CEYKZ0"
      },
      "source": [
        ""
      ],
      "execution_count": 76,
      "outputs": []
    },
    {
      "cell_type": "code",
      "metadata": {
        "id": "YPDpNJ-R4tpq"
      },
      "source": [
        "train_dataloader = DataLoader(train_dataset, batch_size, shuffle=True, num_workers=3, pin_memory=True,)\n",
        "test_dataloader = DataLoader(test_dataset, batch_size, num_workers=3, pin_memory=True)"
      ],
      "execution_count": 114,
      "outputs": []
    },
    {
      "cell_type": "code",
      "metadata": {
        "colab": {
          "base_uri": "https://localhost:8080/"
        },
        "id": "iMmSneM-4tc3",
        "outputId": "230fc1d3-d572-434d-b2db-351752e2e3ae"
      },
      "source": [
        "train_dataloader"
      ],
      "execution_count": 78,
      "outputs": [
        {
          "output_type": "execute_result",
          "data": {
            "text/plain": [
              "<torch.utils.data.dataloader.DataLoader at 0x7fb0f3c58978>"
            ]
          },
          "metadata": {
            "tags": []
          },
          "execution_count": 78
        }
      ]
    },
    {
      "cell_type": "code",
      "metadata": {
        "colab": {
          "base_uri": "https://localhost:8080/"
        },
        "id": "hcVHl-pT8iWx",
        "outputId": "25d0d1d8-60e7-42c1-f046-8b28041ee8e8"
      },
      "source": [
        "test_dataloader"
      ],
      "execution_count": 115,
      "outputs": [
        {
          "output_type": "execute_result",
          "data": {
            "text/plain": [
              "<torch.utils.data.dataloader.DataLoader at 0x7fb0f0204b38>"
            ]
          },
          "metadata": {
            "tags": []
          },
          "execution_count": 115
        }
      ]
    },
    {
      "cell_type": "markdown",
      "metadata": {
        "id": "sUcS4dAqxxP5"
      },
      "source": [
        "Создадим функцию для просмотра случайных картинок из получившегося датасета:"
      ]
    },
    {
      "cell_type": "code",
      "metadata": {
        "id": "UuXZqxGexxP5"
      },
      "source": [
        "def show_batch(dl):\n",
        "    for images, labels in dl:\n",
        "        fig, ax = plt.subplots(figsize=(12, 12))\n",
        "        ax.set_xticks([]); ax.set_yticks([])\n",
        "        print(images[0].shape, len(images))\n",
        "        ax.imshow(make_grid(images[:100], nrow=10).permute(1, 2, 0))\n",
        "        break"
      ],
      "execution_count": 79,
      "outputs": []
    },
    {
      "cell_type": "code",
      "metadata": {
        "id": "cgDt8dujxxQA",
        "colab": {
          "base_uri": "https://localhost:8080/",
          "height": 122
        },
        "outputId": "dabb460b-105a-48a3-d495-93fbba993628"
      },
      "source": [
        "show_batch(train_dataloader)"
      ],
      "execution_count": 117,
      "outputs": [
        {
          "output_type": "stream",
          "text": [
            "torch.Size([1, 48, 48]) 10\n"
          ],
          "name": "stdout"
        },
        {
          "output_type": "display_data",
          "data": {
            "image/png": "[encoded data removed]",
            "text/plain": [
              "<Figure size 864x864 with 1 Axes>"
            ]
          },
          "metadata": {
            "tags": []
          }
        }
      ]
    },
    {
      "cell_type": "code",
      "metadata": {
        "colab": {
          "base_uri": "https://localhost:8080/",
          "height": 78
        },
        "id": "YzQTPg3G89ME",
        "outputId": "caa39694-2fa6-4450-8837-a1322fc35233"
      },
      "source": [
        "show_batch(test_dataloader)"
      ],
      "execution_count": 118,
      "outputs": [
        {
          "output_type": "stream",
          "text": [
            "torch.Size([1, 240, 640]) 10\n"
          ],
          "name": "stdout"
        },
        {
          "output_type": "display_data",
          "data": {
            "image/png": "[encoded data removed]",
            "text/plain": [
              "<Figure size 864x864 with 1 Axes>"
            ]
          },
          "metadata": {
            "tags": []
          }
        }
      ]
    },
    {
      "cell_type": "code",
      "metadata": {
        "id": "ZsM1kDF2yNwi"
      },
      "source": [
        "def get_default_device():\n",
        "    if torch.cuda.is_available():\n",
        "        return torch.device('cuda')\n",
        "    else:\n",
        "        return torch.device('cpu')\n",
        "    \n",
        "def to_device(data, device):\n",
        "    if isinstance(data, (list,tuple)):\n",
        "        return [to_device(x, device) for x in data]\n",
        "    return data.to(device, non_blocking=True)\n",
        "\n",
        "class DeviceDataLoader():\n",
        "    def __init__(self, dl, device):\n",
        "        self.dl = dl\n",
        "        self.device = device\n",
        "        \n",
        "    def __iter__(self):\n",
        "        for b in self.dl: \n",
        "            yield to_device(b, self.device)\n",
        "\n",
        "    def __len__(self):\n",
        "        return len(self.dl)"
      ],
      "execution_count": 81,
      "outputs": []
    },
    {
      "cell_type": "code",
      "metadata": {
        "colab": {
          "base_uri": "https://localhost:8080/"
        },
        "id": "9jffOHOyFodh",
        "outputId": "42c950fa-e4aa-42d2-bdcf-589724e877af"
      },
      "source": [
        "device = get_default_device()\n",
        "device"
      ],
      "execution_count": 82,
      "outputs": [
        {
          "output_type": "execute_result",
          "data": {
            "text/plain": [
              "device(type='cuda')"
            ]
          },
          "metadata": {
            "tags": []
          },
          "execution_count": 82
        }
      ]
    },
    {
      "cell_type": "code",
      "metadata": {
        "id": "yMG-htgAFoZv"
      },
      "source": [
        "train_dataloader = DeviceDataLoader(train_dataloader, device)\n",
        "test_dataloader = DeviceDataLoader(test_dataloader, device)"
      ],
      "execution_count": 83,
      "outputs": []
    },
    {
      "cell_type": "markdown",
      "metadata": {
        "id": "uDO_HCzXxxQE"
      },
      "source": [
        "## Часть 2. Создание модели"
      ]
    },
    {
      "cell_type": "markdown",
      "metadata": {
        "id": "ia6aDhyjxxQE"
      },
      "source": [
        "Опишем нашу модель для распознавания эмоций:"
      ]
    },
    {
      "cell_type": "code",
      "metadata": {
        "id": "21m3yas5FoGn"
      },
      "source": [
        "class ResNet(nn.Module):\n",
        "    def __init__(self, in_channels, num_classes):\n",
        "        super().__init__()\n",
        "        \n",
        "        self.conv1 = self.conv_block(in_channels, 128)\n",
        "        self.conv2 = self.conv_block(128, 128, pool=True)\n",
        "        self.res1 = nn.Sequential(self.conv_block(128, 128), self.conv_block(128, 128))\n",
        "        self.drop1 = nn.Dropout(0.5)\n",
        "        \n",
        "        self.conv3 = self.conv_block(128, 256)\n",
        "        self.conv4 = self.conv_block(256, 256, pool=True)\n",
        "        self.res2 = nn.Sequential(self.conv_block(256, 256), self.conv_block(256, 256))\n",
        "        self.drop2 = nn.Dropout(0.5)\n",
        "        \n",
        "        self.conv5 = self.conv_block(256, 512)\n",
        "        self.conv6 = self.conv_block(512, 512, pool=True)\n",
        "        self.res3 = nn.Sequential(self.conv_block(512, 512), self.conv_block(512, 512))\n",
        "        self.drop3 = nn.Dropout(0.5)\n",
        "        \n",
        "        self.classifier = nn.Sequential(nn.MaxPool2d(6), \n",
        "                                        nn.Flatten(),\n",
        "                                        nn.Linear(512, num_classes))\n",
        "    \n",
        "    @staticmethod\n",
        "    def conv_block(in_channels, out_channels, pool=False):\n",
        "        layers = [nn.Conv2d(in_channels, out_channels, kernel_size=3, padding=1), \n",
        "                  nn.BatchNorm2d(out_channels), \n",
        "                  nn.ELU(inplace=True)]\n",
        "        if pool: layers.append(nn.MaxPool2d(2))\n",
        "        return nn.Sequential(*layers)\n",
        "        \n",
        "    def forward(self, xb):\n",
        "        out = self.conv1(xb)\n",
        "        out = self.conv2(out)\n",
        "        out = self.res1(out) + out\n",
        "        out = self.drop1(out)\n",
        "        \n",
        "        out = self.conv3(out)\n",
        "        out = self.conv4(out)\n",
        "        out = self.res2(out) + out\n",
        "        out = self.drop2(out)\n",
        "        \n",
        "        out = self.conv5(out)\n",
        "        out = self.conv6(out)\n",
        "        out = self.res3(out) + out\n",
        "        out = self.drop3(out)\n",
        "        \n",
        "        out = self.classifier(out)\n",
        "        return out"
      ],
      "execution_count": 84,
      "outputs": []
    },
    {
      "cell_type": "code",
      "metadata": {
        "id": "x2B_vPB_FoCm"
      },
      "source": [
        "model = to_device(ResNet(1, 10), device)"
      ],
      "execution_count": 85,
      "outputs": []
    },
    {
      "cell_type": "code",
      "metadata": {
        "id": "rfWVkXU0Fn_L"
      },
      "source": [
        "# model"
      ],
      "execution_count": 86,
      "outputs": []
    },
    {
      "cell_type": "markdown",
      "metadata": {
        "id": "DUwP50ZcxxQF"
      },
      "source": [
        "## Часть 3. Обучение"
      ]
    },
    {
      "cell_type": "code",
      "metadata": {
        "id": "slvygdJ-xxQG"
      },
      "source": [
        "# Если работаете на гпу, очищаем весь кэш\n",
        "if torch.cuda.is_available(): \n",
        "    torch.cuda.empty_cache()\n",
        "\n",
        "\n",
        "epochs = 50\n",
        "max_lr = 0.008\n",
        "grad_clip = 0.1\n",
        "weight_decay = 1e-4\n",
        "optimizer = torch.optim.Adam(model.parameters(), max_lr, weight_decay=weight_decay)"
      ],
      "execution_count": 87,
      "outputs": []
    },
    {
      "cell_type": "code",
      "metadata": {
        "id": "x8fI8IKJxxQG",
        "colab": {
          "base_uri": "https://localhost:8080/"
        },
        "outputId": "d8a04b07-5aab-465f-d29e-f71a4f528597"
      },
      "source": [
        "total_steps = len(train_dataloader)\n",
        "print(f'{epochs} epochs, {total_steps} total_steps per epoch')"
      ],
      "execution_count": 88,
      "outputs": [
        {
          "output_type": "stream",
          "text": [
            "50 epochs, 2000 total_steps per epoch\n"
          ],
          "name": "stdout"
        }
      ]
    },
    {
      "cell_type": "markdown",
      "metadata": {
        "id": "oW5lgeO2xxQG"
      },
      "source": [
        "Добавим learning_rate_sheduler:"
      ]
    },
    {
      "cell_type": "code",
      "metadata": {
        "id": "Sok0i5e8NSrl"
      },
      "source": [
        ""
      ],
      "execution_count": 88,
      "outputs": []
    },
    {
      "cell_type": "code",
      "metadata": {
        "id": "-n1MhJ7uxxQG",
        "colab": {
          "base_uri": "https://localhost:8080/"
        },
        "outputId": "2139a6e1-5099-474f-81d9-5f092f6819c9"
      },
      "source": [
        "print(torch.__version__)\n",
        "scheduler = torch.optim.lr_scheduler.OneCycleLR(optimizer, max_lr, epochs=epochs, \n",
        "                                                steps_per_epoch=len(train_dataloader))"
      ],
      "execution_count": 89,
      "outputs": [
        {
          "output_type": "stream",
          "text": [
            "1.7.0+cu101\n"
          ],
          "name": "stdout"
        }
      ]
    },
    {
      "cell_type": "code",
      "metadata": {
        "colab": {
          "base_uri": "https://localhost:8080/"
        },
        "id": "FqA1rDUbO98o",
        "outputId": "a4eb5fe8-5230-4811-cfe8-8cb63148353c"
      },
      "source": [
        "!nvidia-smi"
      ],
      "execution_count": 90,
      "outputs": [
        {
          "output_type": "stream",
          "text": [
            "Wed Dec  2 12:25:01 2020       \n",
            "+-----------------------------------------------------------------------------+\n",
            "| NVIDIA-SMI 455.38       Driver Version: 418.67       CUDA Version: 10.1     |\n",
            "|-------------------------------+----------------------+----------------------+\n",
            "| GPU  Name        Persistence-M| Bus-Id        Disp.A | Volatile Uncorr. ECC |\n",
            "| Fan  Temp  Perf  Pwr:Usage/Cap|         Memory-Usage | GPU-Util  Compute M. |\n",
            "|                               |                      |               MIG M. |\n",
            "|===============================+======================+======================|\n",
            "|   0  Tesla V100-SXM2...  Off  | 00000000:00:04.0 Off |                    0 |\n",
            "| N/A   37C    P0    40W / 300W |  16095MiB / 16130MiB |      0%      Default |\n",
            "|                               |                      |                 ERR! |\n",
            "+-------------------------------+----------------------+----------------------+\n",
            "                                                                               \n",
            "+-----------------------------------------------------------------------------+\n",
            "| Processes:                                                                  |\n",
            "|  GPU   GI   CI        PID   Type   Process name                  GPU Memory |\n",
            "|        ID   ID                                                   Usage      |\n",
            "|=============================================================================|\n",
            "|  No running processes found                                                 |\n",
            "+-----------------------------------------------------------------------------+\n"
          ],
          "name": "stdout"
        }
      ]
    },
    {
      "cell_type": "code",
      "metadata": {
        "id": "4RQ1ntL2xxQG",
        "colab": {
          "base_uri": "https://localhost:8080/"
        },
        "outputId": "df3f993b-798a-4747-ad9e-db610c4d754a"
      },
      "source": [
        "epoch_losses = []\n",
        "\n",
        "for epoch in range(epochs):\n",
        "    \n",
        "    time1 = time.time()\n",
        "    running_loss = 0.0\n",
        "    epoch_loss = []\n",
        "    for batch_idx, (data, labels) in enumerate(train_dataloader):\n",
        "        # print(len(data))\n",
        "        # print(len(labels))\n",
        "        data, labels = Variable(data), Variable(labels)\n",
        "        data = data.to(device)\n",
        "        labels = labels.to(device)\n",
        "        \n",
        "        optimizer.zero_grad()\n",
        "\n",
        "        outputs = model(data)\n",
        "        loss = F.cross_entropy(outputs, labels)\n",
        "        loss.backward()\n",
        "        optimizer.step()\n",
        "        scheduler.step()\n",
        "        \n",
        "        running_loss += loss.item()\n",
        "        epoch_loss.append(loss.item())\n",
        "        if (batch_idx+1) % 10000 == 9999:\n",
        "            print(f'Train Epoch: {epoch+1}, Loss: {running_loss/10000}')\n",
        "            time2 = time.time()\n",
        "            print(f'Spend time for 10000 images: {time2 - time1} sec')\n",
        "            time1 = time.time()\n",
        "            running_loss = 0.0\n",
        "    print(f'Epoch {epoch+1}, loss: ', np.mean(epoch_loss))\n",
        "    epoch_losses.append(epoch_loss)\n",
        "    "
      ],
      "execution_count": 91,
      "outputs": [
        {
          "output_type": "stream",
          "text": [
            "Epoch 1, loss:  0.85296475921385\n",
            "Epoch 2, loss:  0.3451566609373549\n",
            "Epoch 3, loss:  0.3762199700778292\n",
            "Epoch 4, loss:  0.42000630170176123\n",
            "Epoch 5, loss:  0.49906618921600604\n",
            "Epoch 6, loss:  0.48375417165883844\n",
            "Epoch 7, loss:  0.3451052733456454\n",
            "Epoch 8, loss:  0.25005211782254627\n",
            "Epoch 9, loss:  0.2400171486342151\n",
            "Epoch 10, loss:  0.20879092626049534\n",
            "Epoch 11, loss:  0.2021986789219227\n",
            "Epoch 12, loss:  0.20634123420826656\n",
            "Epoch 13, loss:  0.2131252425314251\n",
            "Epoch 14, loss:  0.20054680233688668\n",
            "Epoch 15, loss:  0.21408296400862672\n",
            "Epoch 16, loss:  0.18827172371203868\n",
            "Epoch 17, loss:  0.1944852383039324\n",
            "Epoch 18, loss:  0.17897024699703615\n",
            "Epoch 19, loss:  0.1725461108541458\n",
            "Epoch 20, loss:  0.17052453262635936\n",
            "Epoch 21, loss:  0.15049061808865555\n",
            "Epoch 22, loss:  0.1697508614939261\n",
            "Epoch 23, loss:  0.1569546522941164\n",
            "Epoch 24, loss:  0.13069020327855468\n",
            "Epoch 25, loss:  0.14069762978879408\n",
            "Epoch 26, loss:  0.12796779053151705\n",
            "Epoch 27, loss:  0.11828512633344736\n",
            "Epoch 28, loss:  0.1059764463752167\n",
            "Epoch 29, loss:  0.11627438683406671\n",
            "Epoch 30, loss:  0.09497561391222917\n",
            "Epoch 31, loss:  0.0887697999157706\n",
            "Epoch 32, loss:  0.08974039149268788\n",
            "Epoch 33, loss:  0.08139257454467225\n",
            "Epoch 34, loss:  0.06964779181735031\n",
            "Epoch 35, loss:  0.06511919378649964\n",
            "Epoch 36, loss:  0.06129822743814736\n",
            "Epoch 37, loss:  0.05154230963709404\n",
            "Epoch 38, loss:  0.04745319531138079\n",
            "Epoch 39, loss:  0.04445716525407215\n",
            "Epoch 40, loss:  0.036269291885000485\n",
            "Epoch 41, loss:  0.03202487158349595\n",
            "Epoch 42, loss:  0.03163082817300892\n",
            "Epoch 43, loss:  0.026585789186212766\n",
            "Epoch 44, loss:  0.02227436269878757\n",
            "Epoch 45, loss:  0.020630025525359485\n",
            "Epoch 46, loss:  0.02016452645667556\n",
            "Epoch 47, loss:  0.018698105733072522\n",
            "Epoch 48, loss:  0.01659144288575368\n",
            "Epoch 49, loss:  0.01741925991894099\n",
            "Epoch 50, loss:  0.017442498054968766\n"
          ],
          "name": "stdout"
        }
      ]
    },
    {
      "cell_type": "markdown",
      "metadata": {
        "id": "yeCmvGAYxxQH"
      },
      "source": [
        "Посмотрим на нашу ошибку в процессе обучения:"
      ]
    },
    {
      "cell_type": "code",
      "metadata": {
        "id": "FOxd3QddxxQH",
        "colab": {
          "base_uri": "https://localhost:8080/",
          "height": 313
        },
        "outputId": "5ff6f67a-edd0-4823-9c7e-49f47e6543ae"
      },
      "source": [
        "losses = [np.mean(loss) for loss in epoch_losses]\n",
        "plt.plot(losses, '-x')\n",
        "plt.xlabel('epoch')\n",
        "plt.ylabel('losses')\n",
        "plt.title('losses vs. No. of epochs')"
      ],
      "execution_count": 92,
      "outputs": [
        {
          "output_type": "execute_result",
          "data": {
            "text/plain": [
              "Text(0.5, 1.0, 'losses vs. No. of epochs')"
            ]
          },
          "metadata": {
            "tags": []
          },
          "execution_count": 92
        },
        {
          "output_type": "display_data",
          "data": {
            "image/png": "[encoded data removed]",
            "text/plain": [
              "<Figure size 432x288 with 1 Axes>"
            ]
          },
          "metadata": {
            "tags": [],
            "needs_background": "light"
          }
        }
      ]
    },
    {
      "cell_type": "markdown",
      "metadata": {
        "id": "CCJNn8NtxxQH"
      },
      "source": [
        "Сохраним нашу модель:"
      ]
    },
    {
      "cell_type": "code",
      "metadata": {
        "id": "b2W7ie09xxQH"
      },
      "source": [
        "torch.save(model.state_dict(), './emotion_detection_model_state_50_epoch.pth')"
      ],
      "execution_count": 97,
      "outputs": []
    },
    {
      "cell_type": "markdown",
      "metadata": {
        "id": "ixAFuJu5bcDs"
      },
      "source": [
        "## Часть 4. Результаты\n",
        "\n",
        "Теперь давайте загрузим ее и будем использовать:"
      ]
    },
    {
      "cell_type": "code",
      "metadata": {
        "id": "k--uWvVEbcDs"
      },
      "source": [
        "net=ResNet(1, 10).to(device)\n",
        "net.load_state_dict(torch.load('./emotion_detection_model_state_50_epoch.pth'))\n",
        "net.eval()"
      ],
      "execution_count": null,
      "outputs": []
    },
    {
      "cell_type": "markdown",
      "metadata": {
        "id": "uvSJa2ombcDt"
      },
      "source": [
        "Прогоним нашу нейронную сеть через тестовый датасет:"
      ]
    },
    {
      "cell_type": "code",
      "metadata": {
        "id": "dDJJ-pyLbcDt",
        "colab": {
          "base_uri": "https://localhost:8080/",
          "height": 452
        },
        "outputId": "31a78bd7-22d3-47bb-f0f7-38d3360657d3"
      },
      "source": [
        "with torch.no_grad():\n",
        "    for i, data in enumerate(test_dataloader):\n",
        "        images, labels = data\n",
        "        images, labels = Variable(images,volatile=True), Variable(labels,volatile=True)\n",
        "        outputs = net(images)\n",
        "        plt.title(f'gaused - {digit_to_classname(outputs[0].argmax())}, groud truth - {digit_to_classname(labels[0])}')\n",
        "        plt.imshow(images[0].cpu().squeeze(), cmap='gray')\n",
        "        plt.show()\n",
        "        if i>10:\n",
        "            break"
      ],
      "execution_count": 119,
      "outputs": [
        {
          "output_type": "stream",
          "text": [
            "/usr/local/lib/python3.6/dist-packages/ipykernel_launcher.py:4: UserWarning: volatile was removed and now has no effect. Use `with torch.no_grad():` instead.\n",
            "  after removing the cwd from sys.path.\n"
          ],
          "name": "stderr"
        },
        {
          "output_type": "error",
          "ename": "RuntimeError",
          "evalue": "ignored",
          "traceback": [
            "\u001b[0;31m---------------------------------------------------------------------------\u001b[0m",
            "\u001b[0;31mRuntimeError\u001b[0m                              Traceback (most recent call last)",
            "\u001b[0;32m<ipython-input-119-8bd53d24cdae>\u001b[0m in \u001b[0;36m<module>\u001b[0;34m()\u001b[0m\n\u001b[1;32m      3\u001b[0m         \u001b[0mimages\u001b[0m\u001b[0;34m,\u001b[0m \u001b[0mlabels\u001b[0m \u001b[0;34m=\u001b[0m \u001b[0mdata\u001b[0m\u001b[0;34m\u001b[0m\u001b[0;34m\u001b[0m\u001b[0m\n\u001b[1;32m      4\u001b[0m         \u001b[0mimages\u001b[0m\u001b[0;34m,\u001b[0m \u001b[0mlabels\u001b[0m \u001b[0;34m=\u001b[0m \u001b[0mVariable\u001b[0m\u001b[0;34m(\u001b[0m\u001b[0mimages\u001b[0m\u001b[0;34m,\u001b[0m\u001b[0mvolatile\u001b[0m\u001b[0;34m=\u001b[0m\u001b[0;32mTrue\u001b[0m\u001b[0;34m)\u001b[0m\u001b[0;34m,\u001b[0m \u001b[0mVariable\u001b[0m\u001b[0;34m(\u001b[0m\u001b[0mlabels\u001b[0m\u001b[0;34m,\u001b[0m\u001b[0mvolatile\u001b[0m\u001b[0;34m=\u001b[0m\u001b[0;32mTrue\u001b[0m\u001b[0;34m)\u001b[0m\u001b[0;34m\u001b[0m\u001b[0;34m\u001b[0m\u001b[0m\n\u001b[0;32m----> 5\u001b[0;31m         \u001b[0moutputs\u001b[0m \u001b[0;34m=\u001b[0m \u001b[0mnet\u001b[0m\u001b[0;34m(\u001b[0m\u001b[0mimages\u001b[0m\u001b[0;34m)\u001b[0m\u001b[0;34m\u001b[0m\u001b[0;34m\u001b[0m\u001b[0m\n\u001b[0m\u001b[1;32m      6\u001b[0m         \u001b[0mplt\u001b[0m\u001b[0;34m.\u001b[0m\u001b[0mtitle\u001b[0m\u001b[0;34m(\u001b[0m\u001b[0;34mf'gaused - {digit_to_classname(outputs[0].argmax())}, groud truth - {digit_to_classname(labels[0])}'\u001b[0m\u001b[0;34m)\u001b[0m\u001b[0;34m\u001b[0m\u001b[0;34m\u001b[0m\u001b[0m\n\u001b[1;32m      7\u001b[0m         \u001b[0mplt\u001b[0m\u001b[0;34m.\u001b[0m\u001b[0mimshow\u001b[0m\u001b[0;34m(\u001b[0m\u001b[0mimages\u001b[0m\u001b[0;34m[\u001b[0m\u001b[0;36m0\u001b[0m\u001b[0;34m]\u001b[0m\u001b[0;34m.\u001b[0m\u001b[0mcpu\u001b[0m\u001b[0;34m(\u001b[0m\u001b[0;34m)\u001b[0m\u001b[0;34m.\u001b[0m\u001b[0msqueeze\u001b[0m\u001b[0;34m(\u001b[0m\u001b[0;34m)\u001b[0m\u001b[0;34m,\u001b[0m \u001b[0mcmap\u001b[0m\u001b[0;34m=\u001b[0m\u001b[0;34m'gray'\u001b[0m\u001b[0;34m)\u001b[0m\u001b[0;34m\u001b[0m\u001b[0;34m\u001b[0m\u001b[0m\n",
            "\u001b[0;32m/usr/local/lib/python3.6/dist-packages/torch/nn/modules/module.py\u001b[0m in \u001b[0;36m_call_impl\u001b[0;34m(self, *input, **kwargs)\u001b[0m\n\u001b[1;32m    725\u001b[0m             \u001b[0mresult\u001b[0m \u001b[0;34m=\u001b[0m \u001b[0mself\u001b[0m\u001b[0;34m.\u001b[0m\u001b[0m_slow_forward\u001b[0m\u001b[0;34m(\u001b[0m\u001b[0;34m*\u001b[0m\u001b[0minput\u001b[0m\u001b[0;34m,\u001b[0m \u001b[0;34m**\u001b[0m\u001b[0mkwargs\u001b[0m\u001b[0;34m)\u001b[0m\u001b[0;34m\u001b[0m\u001b[0;34m\u001b[0m\u001b[0m\n\u001b[1;32m    726\u001b[0m         \u001b[0;32melse\u001b[0m\u001b[0;34m:\u001b[0m\u001b[0;34m\u001b[0m\u001b[0;34m\u001b[0m\u001b[0m\n\u001b[0;32m--> 727\u001b[0;31m             \u001b[0mresult\u001b[0m \u001b[0;34m=\u001b[0m \u001b[0mself\u001b[0m\u001b[0;34m.\u001b[0m\u001b[0mforward\u001b[0m\u001b[0;34m(\u001b[0m\u001b[0;34m*\u001b[0m\u001b[0minput\u001b[0m\u001b[0;34m,\u001b[0m \u001b[0;34m**\u001b[0m\u001b[0mkwargs\u001b[0m\u001b[0;34m)\u001b[0m\u001b[0;34m\u001b[0m\u001b[0;34m\u001b[0m\u001b[0m\n\u001b[0m\u001b[1;32m    728\u001b[0m         for hook in itertools.chain(\n\u001b[1;32m    729\u001b[0m                 \u001b[0m_global_forward_hooks\u001b[0m\u001b[0;34m.\u001b[0m\u001b[0mvalues\u001b[0m\u001b[0;34m(\u001b[0m\u001b[0;34m)\u001b[0m\u001b[0;34m,\u001b[0m\u001b[0;34m\u001b[0m\u001b[0;34m\u001b[0m\u001b[0m\n",
            "\u001b[0;32m<ipython-input-84-5c0d1db04bc4>\u001b[0m in \u001b[0;36mforward\u001b[0;34m(self, xb)\u001b[0m\n\u001b[1;32m     31\u001b[0m \u001b[0;34m\u001b[0m\u001b[0m\n\u001b[1;32m     32\u001b[0m     \u001b[0;32mdef\u001b[0m \u001b[0mforward\u001b[0m\u001b[0;34m(\u001b[0m\u001b[0mself\u001b[0m\u001b[0;34m,\u001b[0m \u001b[0mxb\u001b[0m\u001b[0;34m)\u001b[0m\u001b[0;34m:\u001b[0m\u001b[0;34m\u001b[0m\u001b[0;34m\u001b[0m\u001b[0m\n\u001b[0;32m---> 33\u001b[0;31m         \u001b[0mout\u001b[0m \u001b[0;34m=\u001b[0m \u001b[0mself\u001b[0m\u001b[0;34m.\u001b[0m\u001b[0mconv1\u001b[0m\u001b[0;34m(\u001b[0m\u001b[0mxb\u001b[0m\u001b[0;34m)\u001b[0m\u001b[0;34m\u001b[0m\u001b[0;34m\u001b[0m\u001b[0m\n\u001b[0m\u001b[1;32m     34\u001b[0m         \u001b[0mout\u001b[0m \u001b[0;34m=\u001b[0m \u001b[0mself\u001b[0m\u001b[0;34m.\u001b[0m\u001b[0mconv2\u001b[0m\u001b[0;34m(\u001b[0m\u001b[0mout\u001b[0m\u001b[0;34m)\u001b[0m\u001b[0;34m\u001b[0m\u001b[0;34m\u001b[0m\u001b[0m\n\u001b[1;32m     35\u001b[0m         \u001b[0mout\u001b[0m \u001b[0;34m=\u001b[0m \u001b[0mself\u001b[0m\u001b[0;34m.\u001b[0m\u001b[0mres1\u001b[0m\u001b[0;34m(\u001b[0m\u001b[0mout\u001b[0m\u001b[0;34m)\u001b[0m \u001b[0;34m+\u001b[0m \u001b[0mout\u001b[0m\u001b[0;34m\u001b[0m\u001b[0;34m\u001b[0m\u001b[0m\n",
            "\u001b[0;32m/usr/local/lib/python3.6/dist-packages/torch/nn/modules/module.py\u001b[0m in \u001b[0;36m_call_impl\u001b[0;34m(self, *input, **kwargs)\u001b[0m\n\u001b[1;32m    725\u001b[0m             \u001b[0mresult\u001b[0m \u001b[0;34m=\u001b[0m \u001b[0mself\u001b[0m\u001b[0;34m.\u001b[0m\u001b[0m_slow_forward\u001b[0m\u001b[0;34m(\u001b[0m\u001b[0;34m*\u001b[0m\u001b[0minput\u001b[0m\u001b[0;34m,\u001b[0m \u001b[0;34m**\u001b[0m\u001b[0mkwargs\u001b[0m\u001b[0;34m)\u001b[0m\u001b[0;34m\u001b[0m\u001b[0;34m\u001b[0m\u001b[0m\n\u001b[1;32m    726\u001b[0m         \u001b[0;32melse\u001b[0m\u001b[0;34m:\u001b[0m\u001b[0;34m\u001b[0m\u001b[0;34m\u001b[0m\u001b[0m\n\u001b[0;32m--> 727\u001b[0;31m             \u001b[0mresult\u001b[0m \u001b[0;34m=\u001b[0m \u001b[0mself\u001b[0m\u001b[0;34m.\u001b[0m\u001b[0mforward\u001b[0m\u001b[0;34m(\u001b[0m\u001b[0;34m*\u001b[0m\u001b[0minput\u001b[0m\u001b[0;34m,\u001b[0m \u001b[0;34m**\u001b[0m\u001b[0mkwargs\u001b[0m\u001b[0;34m)\u001b[0m\u001b[0;34m\u001b[0m\u001b[0;34m\u001b[0m\u001b[0m\n\u001b[0m\u001b[1;32m    728\u001b[0m         for hook in itertools.chain(\n\u001b[1;32m    729\u001b[0m                 \u001b[0m_global_forward_hooks\u001b[0m\u001b[0;34m.\u001b[0m\u001b[0mvalues\u001b[0m\u001b[0;34m(\u001b[0m\u001b[0;34m)\u001b[0m\u001b[0;34m,\u001b[0m\u001b[0;34m\u001b[0m\u001b[0;34m\u001b[0m\u001b[0m\n",
            "\u001b[0;32m/usr/local/lib/python3.6/dist-packages/torch/nn/modules/container.py\u001b[0m in \u001b[0;36mforward\u001b[0;34m(self, input)\u001b[0m\n\u001b[1;32m    115\u001b[0m     \u001b[0;32mdef\u001b[0m \u001b[0mforward\u001b[0m\u001b[0;34m(\u001b[0m\u001b[0mself\u001b[0m\u001b[0;34m,\u001b[0m \u001b[0minput\u001b[0m\u001b[0;34m)\u001b[0m\u001b[0;34m:\u001b[0m\u001b[0;34m\u001b[0m\u001b[0;34m\u001b[0m\u001b[0m\n\u001b[1;32m    116\u001b[0m         \u001b[0;32mfor\u001b[0m \u001b[0mmodule\u001b[0m \u001b[0;32min\u001b[0m \u001b[0mself\u001b[0m\u001b[0;34m:\u001b[0m\u001b[0;34m\u001b[0m\u001b[0;34m\u001b[0m\u001b[0m\n\u001b[0;32m--> 117\u001b[0;31m             \u001b[0minput\u001b[0m \u001b[0;34m=\u001b[0m \u001b[0mmodule\u001b[0m\u001b[0;34m(\u001b[0m\u001b[0minput\u001b[0m\u001b[0;34m)\u001b[0m\u001b[0;34m\u001b[0m\u001b[0;34m\u001b[0m\u001b[0m\n\u001b[0m\u001b[1;32m    118\u001b[0m         \u001b[0;32mreturn\u001b[0m \u001b[0minput\u001b[0m\u001b[0;34m\u001b[0m\u001b[0;34m\u001b[0m\u001b[0m\n\u001b[1;32m    119\u001b[0m \u001b[0;34m\u001b[0m\u001b[0m\n",
            "\u001b[0;32m/usr/local/lib/python3.6/dist-packages/torch/nn/modules/module.py\u001b[0m in \u001b[0;36m_call_impl\u001b[0;34m(self, *input, **kwargs)\u001b[0m\n\u001b[1;32m    725\u001b[0m             \u001b[0mresult\u001b[0m \u001b[0;34m=\u001b[0m \u001b[0mself\u001b[0m\u001b[0;34m.\u001b[0m\u001b[0m_slow_forward\u001b[0m\u001b[0;34m(\u001b[0m\u001b[0;34m*\u001b[0m\u001b[0minput\u001b[0m\u001b[0;34m,\u001b[0m \u001b[0;34m**\u001b[0m\u001b[0mkwargs\u001b[0m\u001b[0;34m)\u001b[0m\u001b[0;34m\u001b[0m\u001b[0;34m\u001b[0m\u001b[0m\n\u001b[1;32m    726\u001b[0m         \u001b[0;32melse\u001b[0m\u001b[0;34m:\u001b[0m\u001b[0;34m\u001b[0m\u001b[0;34m\u001b[0m\u001b[0m\n\u001b[0;32m--> 727\u001b[0;31m             \u001b[0mresult\u001b[0m \u001b[0;34m=\u001b[0m \u001b[0mself\u001b[0m\u001b[0;34m.\u001b[0m\u001b[0mforward\u001b[0m\u001b[0;34m(\u001b[0m\u001b[0;34m*\u001b[0m\u001b[0minput\u001b[0m\u001b[0;34m,\u001b[0m \u001b[0;34m**\u001b[0m\u001b[0mkwargs\u001b[0m\u001b[0;34m)\u001b[0m\u001b[0;34m\u001b[0m\u001b[0;34m\u001b[0m\u001b[0m\n\u001b[0m\u001b[1;32m    728\u001b[0m         for hook in itertools.chain(\n\u001b[1;32m    729\u001b[0m                 \u001b[0m_global_forward_hooks\u001b[0m\u001b[0;34m.\u001b[0m\u001b[0mvalues\u001b[0m\u001b[0;34m(\u001b[0m\u001b[0;34m)\u001b[0m\u001b[0;34m,\u001b[0m\u001b[0;34m\u001b[0m\u001b[0;34m\u001b[0m\u001b[0m\n",
            "\u001b[0;32m/usr/local/lib/python3.6/dist-packages/torch/nn/modules/conv.py\u001b[0m in \u001b[0;36mforward\u001b[0;34m(self, input)\u001b[0m\n\u001b[1;32m    421\u001b[0m \u001b[0;34m\u001b[0m\u001b[0m\n\u001b[1;32m    422\u001b[0m     \u001b[0;32mdef\u001b[0m \u001b[0mforward\u001b[0m\u001b[0;34m(\u001b[0m\u001b[0mself\u001b[0m\u001b[0;34m,\u001b[0m \u001b[0minput\u001b[0m\u001b[0;34m:\u001b[0m \u001b[0mTensor\u001b[0m\u001b[0;34m)\u001b[0m \u001b[0;34m->\u001b[0m \u001b[0mTensor\u001b[0m\u001b[0;34m:\u001b[0m\u001b[0;34m\u001b[0m\u001b[0;34m\u001b[0m\u001b[0m\n\u001b[0;32m--> 423\u001b[0;31m         \u001b[0;32mreturn\u001b[0m \u001b[0mself\u001b[0m\u001b[0;34m.\u001b[0m\u001b[0m_conv_forward\u001b[0m\u001b[0;34m(\u001b[0m\u001b[0minput\u001b[0m\u001b[0;34m,\u001b[0m \u001b[0mself\u001b[0m\u001b[0;34m.\u001b[0m\u001b[0mweight\u001b[0m\u001b[0;34m)\u001b[0m\u001b[0;34m\u001b[0m\u001b[0;34m\u001b[0m\u001b[0m\n\u001b[0m\u001b[1;32m    424\u001b[0m \u001b[0;34m\u001b[0m\u001b[0m\n\u001b[1;32m    425\u001b[0m \u001b[0;32mclass\u001b[0m \u001b[0mConv3d\u001b[0m\u001b[0;34m(\u001b[0m\u001b[0m_ConvNd\u001b[0m\u001b[0;34m)\u001b[0m\u001b[0;34m:\u001b[0m\u001b[0;34m\u001b[0m\u001b[0;34m\u001b[0m\u001b[0m\n",
            "\u001b[0;32m/usr/local/lib/python3.6/dist-packages/torch/nn/modules/conv.py\u001b[0m in \u001b[0;36m_conv_forward\u001b[0;34m(self, input, weight)\u001b[0m\n\u001b[1;32m    418\u001b[0m                             _pair(0), self.dilation, self.groups)\n\u001b[1;32m    419\u001b[0m         return F.conv2d(input, weight, self.bias, self.stride,\n\u001b[0;32m--> 420\u001b[0;31m                         self.padding, self.dilation, self.groups)\n\u001b[0m\u001b[1;32m    421\u001b[0m \u001b[0;34m\u001b[0m\u001b[0m\n\u001b[1;32m    422\u001b[0m     \u001b[0;32mdef\u001b[0m \u001b[0mforward\u001b[0m\u001b[0;34m(\u001b[0m\u001b[0mself\u001b[0m\u001b[0;34m,\u001b[0m \u001b[0minput\u001b[0m\u001b[0;34m:\u001b[0m \u001b[0mTensor\u001b[0m\u001b[0;34m)\u001b[0m \u001b[0;34m->\u001b[0m \u001b[0mTensor\u001b[0m\u001b[0;34m:\u001b[0m\u001b[0;34m\u001b[0m\u001b[0;34m\u001b[0m\u001b[0m\n",
            "\u001b[0;31mRuntimeError\u001b[0m: Input type (torch.FloatTensor) and weight type (torch.cuda.FloatTensor) should be the same"
          ]
        }
      ]
    },
    {
      "cell_type": "markdown",
      "metadata": {
        "id": "71BVxIUqbcDu"
      },
      "source": [
        "Напишем скрипт, в котором мы построим пайплайн распознавания эмоций найденного лица с изображения. Здесь со своей вебкамеры я ловлю кадры. На каждом кадре я нахожу лица и для каждого лица определяю эмоцию. И все это рисую прямо на кадре и отображаю через cv2.imshow:"
      ]
    },
    {
      "cell_type": "code",
      "metadata": {
        "id": "RXGU5hI_6zCH"
      },
      "source": [
        "!pip install facenet_pytorch"
      ],
      "execution_count": null,
      "outputs": []
    },
    {
      "cell_type": "code",
      "metadata": {
        "id": "oHyS21dtbcDu",
        "colab": {
          "base_uri": "https://localhost:8080/",
          "height": 432
        },
        "outputId": "1902cb72-4713-4c2c-97e8-4d2fc25bbae7"
      },
      "source": [
        "import cv2\n",
        "import torch\n",
        "import numpy as np\n",
        "from facenet_pytorch import MTCNN\n",
        "\n",
        "# Создаем объект для считывания потока с веб-камеры(обычно вебкамера идет под номером 0. иногда 1)\n",
        "cap = cv2.VideoCapture(0)  \n",
        "\n",
        "# Класс детектирования и обработки лица с веб-камеры \n",
        "class FaceDetector(object):\n",
        "\n",
        "    def __init__(self, mtcnn, resnet):\n",
        "        self.mtcnn = mtcnn\n",
        "        self.device = torch.device('cuda:0' if torch.cuda.is_available() else 'cpu')\n",
        "        self.emodel = resnet\n",
        "\n",
        "    # Функция рисования найденных параметров на кадре\n",
        "    def _draw(self, frame, boxes, probs, landmarks, emotion):\n",
        "        try:\n",
        "            for box, prob, ld in zip(boxes, probs, landmarks):\n",
        "                # Рисуем обрамляющий прямоугольник лица на кадре\n",
        "                cv2.rectangle(frame,\n",
        "                              (box[0], box[1]),\n",
        "                              (box[2], box[3]),\n",
        "                              (0, 0, 255),\n",
        "                              thickness=2)\n",
        "\n",
        "                # пишем на кадре какая эмоция распознана\n",
        "                cv2.putText(frame, \n",
        "                    emotion, (box[2], box[3]), cv2.FONT_HERSHEY_SIMPLEX, 1, (0, 0, 255), 2, cv2.LINE_AA)\n",
        "\n",
        "                # Рисуем особенные точки\n",
        "                cv2.circle(frame, tuple(ld[0]), 5, (0, 0, 255), -1)\n",
        "                cv2.circle(frame, tuple(ld[1]), 5, (0, 0, 255), -1)\n",
        "                cv2.circle(frame, tuple(ld[2]), 5, (0, 0, 255), -1)\n",
        "                cv2.circle(frame, tuple(ld[3]), 5, (0, 0, 255), -1)\n",
        "                cv2.circle(frame, tuple(ld[4]), 5, (0, 0, 255), -1)\n",
        "        except:\n",
        "            print('Something wrong im draw function!')\n",
        "\n",
        "        return frame\n",
        "    \n",
        "    # Функция для вырезания лиц с кадра\n",
        "    @staticmethod\n",
        "    def crop_faces(frame, boxes):\n",
        "        faces = []\n",
        "        for i, box in enumerate(boxes):\n",
        "            faces.append(frame[int(box[1]):int(box[3]), \n",
        "                int(box[0]):int(box[2])])\n",
        "        return faces\n",
        "    \n",
        "    @staticmethod\n",
        "    def digit_to_classname(digit):\n",
        "        if digit == 0:\n",
        "            return 'sad'\n",
        "        elif digit == 1:\n",
        "            return 'disgust'\n",
        "        elif digit == 2:\n",
        "            return 'happy'\n",
        "        elif digit == 3:\n",
        "            return 'surprise'\n",
        "        elif digit == 4:\n",
        "            return 'neutral'\n",
        "        elif digit == 5:\n",
        "            return 'fear'\n",
        "        elif digit == 6:\n",
        "            return 'angry'\n",
        "       \n",
        "    # Функция в которой будет происходить процесс считывания и обработки каждого кадра\n",
        "    def run(self):              \n",
        "        # Заходим в бесконечный цикл\n",
        "        while True:\n",
        "            # Считываем каждый новый кадр - frame\n",
        "            # ret - логическая переменая. Смысл - считали ли мы кадр с потока или нет\n",
        "            ret, frame = cap.read()\n",
        "            try:\n",
        "                # детектируем расположение лица на кадре, вероятности на сколько это лицо\n",
        "                # и особенные точки лица\n",
        "                boxes, probs, landmarks = self.mtcnn.detect(frame, landmarks=True)\n",
        "                \n",
        "                # Вырезаем лицо из кадра\n",
        "                face = self.crop_faces(frame, boxes)[0]\n",
        "                # Меняем размер изображения лица для входа в нейронную сеть\n",
        "                face = cv2.resize(face,(48,48))\n",
        "                # Превращаем в 1-канальное серое изображение\n",
        "                face = cv2.cvtColor(face, cv2.COLOR_BGR2GRAY)\n",
        "                # Превращаем numpy-картинку вырезанного лица в pytorch-тензор\n",
        "                torch_face = torch.from_numpy(face).unsqueeze(0).to(self.device).float()\n",
        "                # Загужаем наш тензор лица в нейронную сеть и получаем предсказание\n",
        "                emotion = self.emodel(torch_face[None, ...])\n",
        "                # Интерпретируем предсказание как строку нашей эмоции\n",
        "                emotion = self.digit_to_classname(emotion.argmax())\n",
        "\n",
        "                # Рисуем на кадре\n",
        "                self._draw(frame, boxes, probs, landmarks, emotion)\n",
        "\n",
        "            except:\n",
        "                print('Something wrong im main cycle!')\n",
        "\n",
        "            # Показываем кадр в окне, и назвываем его(окно) - 'Face Detection'\n",
        "            cv2.imshow('Face Detection', frame)\n",
        "            \n",
        "            # Функция, которая проверяет нажатие на клавишу 'q'\n",
        "            # Если нажатие произошло - выход из цикла. Конец работы приложения\n",
        "            if cv2.waitKey(1) & 0xFF == ord('q'):\n",
        "                break\n",
        "                \n",
        "        # Очищаем все объекты opencv, что мы создали\n",
        "        cap.release()\n",
        "        cv2.destroyAllWindows()\n",
        "        \n",
        "        \n",
        "# Загружаем мтцнн\n",
        "mtcnn = MTCNN()\n",
        "\n",
        "ourResNet = ResNet(1, 10).to(device)\n",
        "ourResNet.load_state_dict(torch.load('./emotion_detection_model_state_50_epoch.pth'))\n",
        "ourResNet.eval()\n",
        "# Создаем объект нашего класса приложения\n",
        "fcd = FaceDetector(mtcnn, ourResNet)\n",
        "# Запускаем\n",
        "fcd.run()"
      ],
      "execution_count": 109,
      "outputs": [
        {
          "output_type": "stream",
          "text": [
            "Something wrong im main cycle!\n"
          ],
          "name": "stdout"
        },
        {
          "output_type": "error",
          "ename": "DisabledFunctionError",
          "evalue": "ignored",
          "traceback": [
            "\u001b[0;31m---------------------------------------------------------------------------\u001b[0m",
            "\u001b[0;31mDisabledFunctionError\u001b[0m                     Traceback (most recent call last)",
            "\u001b[0;32m<ipython-input-109-9b622cc92dea>\u001b[0m in \u001b[0;36m<module>\u001b[0;34m()\u001b[0m\n\u001b[1;32m    120\u001b[0m \u001b[0mfcd\u001b[0m \u001b[0;34m=\u001b[0m \u001b[0mFaceDetector\u001b[0m\u001b[0;34m(\u001b[0m\u001b[0mmtcnn\u001b[0m\u001b[0;34m,\u001b[0m \u001b[0mourResNet\u001b[0m\u001b[0;34m)\u001b[0m\u001b[0;34m\u001b[0m\u001b[0;34m\u001b[0m\u001b[0m\n\u001b[1;32m    121\u001b[0m \u001b[0;31m# Запускаем\u001b[0m\u001b[0;34m\u001b[0m\u001b[0;34m\u001b[0m\u001b[0;34m\u001b[0m\u001b[0m\n\u001b[0;32m--> 122\u001b[0;31m \u001b[0mfcd\u001b[0m\u001b[0;34m.\u001b[0m\u001b[0mrun\u001b[0m\u001b[0;34m(\u001b[0m\u001b[0;34m)\u001b[0m\u001b[0;34m\u001b[0m\u001b[0;34m\u001b[0m\u001b[0m\n\u001b[0m",
            "\u001b[0;32m<ipython-input-109-9b622cc92dea>\u001b[0m in \u001b[0;36mrun\u001b[0;34m(self)\u001b[0m\n\u001b[1;32m     99\u001b[0m \u001b[0;34m\u001b[0m\u001b[0m\n\u001b[1;32m    100\u001b[0m             \u001b[0;31m# Показываем кадр в окне, и назвываем его(окно) - 'Face Detection'\u001b[0m\u001b[0;34m\u001b[0m\u001b[0;34m\u001b[0m\u001b[0;34m\u001b[0m\u001b[0m\n\u001b[0;32m--> 101\u001b[0;31m             \u001b[0mcv2\u001b[0m\u001b[0;34m.\u001b[0m\u001b[0mimshow\u001b[0m\u001b[0;34m(\u001b[0m\u001b[0;34m'Face Detection'\u001b[0m\u001b[0;34m,\u001b[0m \u001b[0mframe\u001b[0m\u001b[0;34m)\u001b[0m\u001b[0;34m\u001b[0m\u001b[0;34m\u001b[0m\u001b[0m\n\u001b[0m\u001b[1;32m    102\u001b[0m \u001b[0;34m\u001b[0m\u001b[0m\n\u001b[1;32m    103\u001b[0m             \u001b[0;31m# Функция, которая проверяет нажатие на клавишу 'q'\u001b[0m\u001b[0;34m\u001b[0m\u001b[0;34m\u001b[0m\u001b[0;34m\u001b[0m\u001b[0m\n",
            "\u001b[0;32m/usr/local/lib/python3.6/dist-packages/google/colab/_import_hooks/_cv2.py\u001b[0m in \u001b[0;36mwrapped\u001b[0;34m(*args, **kwargs)\u001b[0m\n\u001b[1;32m     50\u001b[0m   \u001b[0;32mdef\u001b[0m \u001b[0mwrapped\u001b[0m\u001b[0;34m(\u001b[0m\u001b[0;34m*\u001b[0m\u001b[0margs\u001b[0m\u001b[0;34m,\u001b[0m \u001b[0;34m**\u001b[0m\u001b[0mkwargs\u001b[0m\u001b[0;34m)\u001b[0m\u001b[0;34m:\u001b[0m\u001b[0;34m\u001b[0m\u001b[0;34m\u001b[0m\u001b[0m\n\u001b[1;32m     51\u001b[0m     \u001b[0;32mif\u001b[0m \u001b[0;32mnot\u001b[0m \u001b[0mos\u001b[0m\u001b[0;34m.\u001b[0m\u001b[0menviron\u001b[0m\u001b[0;34m.\u001b[0m\u001b[0mget\u001b[0m\u001b[0;34m(\u001b[0m\u001b[0menv_var\u001b[0m\u001b[0;34m,\u001b[0m \u001b[0;32mFalse\u001b[0m\u001b[0;34m)\u001b[0m\u001b[0;34m:\u001b[0m\u001b[0;34m\u001b[0m\u001b[0;34m\u001b[0m\u001b[0m\n\u001b[0;32m---> 52\u001b[0;31m       \u001b[0;32mraise\u001b[0m \u001b[0mDisabledFunctionError\u001b[0m\u001b[0;34m(\u001b[0m\u001b[0mmessage\u001b[0m\u001b[0;34m,\u001b[0m \u001b[0mname\u001b[0m \u001b[0;32mor\u001b[0m \u001b[0mfunc\u001b[0m\u001b[0;34m.\u001b[0m\u001b[0m__name__\u001b[0m\u001b[0;34m)\u001b[0m\u001b[0;34m\u001b[0m\u001b[0;34m\u001b[0m\u001b[0m\n\u001b[0m\u001b[1;32m     53\u001b[0m     \u001b[0;32mreturn\u001b[0m \u001b[0mfunc\u001b[0m\u001b[0;34m(\u001b[0m\u001b[0;34m*\u001b[0m\u001b[0margs\u001b[0m\u001b[0;34m,\u001b[0m \u001b[0;34m**\u001b[0m\u001b[0mkwargs\u001b[0m\u001b[0;34m)\u001b[0m\u001b[0;34m\u001b[0m\u001b[0;34m\u001b[0m\u001b[0m\n\u001b[1;32m     54\u001b[0m \u001b[0;34m\u001b[0m\u001b[0m\n",
            "\u001b[0;31mDisabledFunctionError\u001b[0m: cv2.imshow() is disabled in Colab, because it causes Jupyter sessions\nto crash; see https://github.com/jupyter/notebook/issues/3935.\nAs a substitution, consider using\n  from google.colab.patches import cv2_imshow\n"
          ]
        }
      ]
    }
  ]
}